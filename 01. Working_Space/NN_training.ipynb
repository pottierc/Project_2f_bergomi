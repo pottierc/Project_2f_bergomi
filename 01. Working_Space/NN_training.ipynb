{
 "cells": [
  {
   "cell_type": "markdown",
   "id": "309b3cf6",
   "metadata": {},
   "source": [
    "<header style=\"background-color: rgb(0, 62, 92); color: white; margin-top: 20px; padding:28px; \">\n",
    "  <img src=\"images/Xlogo.png\" alt=\"Transposition of a vector\" title=\"Vector transposition\" width=\"115\" style=\"float: left;\">\n",
    "  <p style=\" text-align: center; font-size: 32px;\">   \n",
    "   <strong> Deep Learning in Finance MAP548 </strong></p>\n",
    "  <p style=\" text-align: center; font-size: 25px;\"><strong> Project 1 -  Deep pricing and calibration </strong></p>\n",
    "  <p style=\" text-align: center; font-size: 20px;\"> Eduardo Abi Jaber </p>\n",
    "</header>"
   ]
  },
  {
   "cell_type": "markdown",
   "id": "8e988aa5",
   "metadata": {},
   "source": [
    "# <font color='red'>PLEASE ENTER YOUR FULL NAMES HERE:</font>\n",
    "\n",
    "\n",
    "\n",
    "- MANSARD Diane\n",
    "- POTTIER Clément\n",
    "\n",
    "<font color='red'>**DEADLINE: March 2 (5:00 pm)**</font>\n",
    "\n",
    "<font color='red'>**PLease send both pdf ipynb files with name : Name1_Name2_Project1**</font>"
   ]
  },
  {
   "cell_type": "markdown",
   "id": "08ad6071",
   "metadata": {},
   "source": [
    "# The two factor Bergomi model"
   ]
  },
  {
   "cell_type": "markdown",
   "id": "09088bf8-62fe-49d7-91f7-359286786616",
   "metadata": {},
   "source": [
    "The two factor Bergomi Model (L Bergomi, 2005) under the risk-neutral filtered probability space $(\\Omega, \\mathcal F,(\\mathcal F_t)_{t\\geq 0}, \\mathbb Q )$  has the following dynamics:\n",
    "\n",
    "\n",
    "\\begin{equation}\n",
    "  \\begin{aligned}\n",
    "    dS_t &= S_t\\sqrt{V_t}dB_t, \\quad S_0>0;\\\\\n",
    "    X_t &= X_t^1 + X_t^2,\\\\\n",
    "    V_t &= \\xi \\exp{\\left(X_t-\\frac{1}{2} \\mathbb{V}[X_t] \\right)},\\\\\n",
    "      X_t^i &=  \\eta_i\\int_0^t e^{-\\kappa_i(t-s)} dW_s,\n",
    "  \\end{aligned}\n",
    "  \\end{equation}"
   ]
  },
  {
   "cell_type": "markdown",
   "id": "bdf94875-3111-407c-9e8f-3530c5d5338b",
   "metadata": {},
   "source": [
    "where $ B=\\rho W + \\sqrt{1-\\rho^2} W^{\\perp}$ with $(W,W^{\\perp})$ a two-dimensional Brownian motion, $\\rho \\in [-1,1]$.\n",
    "\n",
    "$X_t^i$ is a Ornstein–Uhlenbeck (Gaussian) process such that $X_t^i \\sim \\mathcal{N}(0, \\eta_i^2\\frac{(1-e^{-2\\kappa_i t})}{2\\kappa_i})$. Note that both $X^1$ and $X^2$ are driven by the same Brownian motion.\n",
    "\n",
    "Recall $\\mathbb V[(X+Y)] = \\mathbb V[X] + \\mathbb V[Y] + 2\\mathbb {COV}[X,Y]$.\n",
    "\n",
    "In addition, we fix $\\kappa_2=2.6$, thus there are in total five calibratable model parameters: $(\\xi, \\kappa_1, \\eta_1, \\eta_2, \\rho)$."
   ]
  },
  {
   "cell_type": "markdown",
   "id": "7c743c4e-a7e7-4910-ad27-341afb1074d6",
   "metadata": {},
   "source": [
    "We are interested in computing the price of European style contingent claims, with payoff $g(S_T)$ for some function $g$:\n",
    "$$\n",
    "C_t = \\mathbb{E} \\left[g(S_T) \\vert \\mathcal F_t) \\right].\n",
    "$$\n",
    "\n",
    "For European vanilla call options, with $g(x) = (x-K)^{+}$ with strike $K$; no closed form formula to compute $g(S_T)$\n",
    "\n",
    "Suggested range of model parameters for training:\n",
    "\n",
    "$\\xi \\in [0.03,0.25], \\kappa_1 \\in [10,60], \\eta_1 \\in [5,35],\\eta_2 \\in [1,5],\\rho \\in [-0.9,-0.1]$"
   ]
  },
  {
   "cell_type": "markdown",
   "id": "d24e44a4",
   "metadata": {},
   "source": [
    "# Your task\n",
    "\n",
    "Inspired by the deep pricer for the one factor Bergomi model. Implement a deep pricer for the two factor Bergomi model. You have to generate your own training set using a scheme of your choice that you have to detail (use the fixed grid for strikes and maturities below).\n",
    "\n",
    "Once your NN is trained, showcase the train and test error, and perform a calibration on the market implied volatility surface that was used in the one factor Bergomi and comment. \n",
    "\n",
    "Also provide/display the output prices of the NN of the set of parameters set 1, 2 and 3 below. \n",
    "\n",
    "You have to provide a notebook that compiles, together with the trained weights of your Neural Networks that we can load with the command: *model_iv.load_weights('2FBergomiNNWeights.h5')*. \n",
    "\n",
    "(!) The actual training of NN is not difficult, the difficult part is to get good data (and lots of it), so be careful about your simulation schemes (training might require a larger dataset than for 1 factor bergomi)."
   ]
  },
  {
   "cell_type": "code",
   "execution_count": 39,
   "id": "b6e8bb22",
   "metadata": {},
   "outputs": [],
   "source": [
    "import numpy as np\n",
    "import matplotlib.pyplot as plt\n",
    "import pandas as pd\n",
    "\n",
    "from tqdm.notebook import tqdm\n",
    "from tensorflow.keras.optimizers import Adam, SGD\n",
    "import tensorflow as tf\n",
    "from tensorflow import keras\n",
    "from sklearn.model_selection import train_test_split"
   ]
  },
  {
   "cell_type": "markdown",
   "id": "0222ef0f",
   "metadata": {},
   "source": [
    "## Preparation of the training data"
   ]
  },
  {
   "cell_type": "code",
   "execution_count": 40,
   "id": "fc50cbce",
   "metadata": {},
   "outputs": [
    {
     "name": "stdout",
     "output_type": "stream",
     "text": [
      "(20000, 93)\n",
      "X shape: (20000, 5)\n",
      "Y shape: (20000, 88)\n"
     ]
    }
   ],
   "source": [
    "training_data = pd.read_csv('training_set_N20K_Nsim50.csv')\n",
    "training_data = training_data.to_numpy()\n",
    "X_data = training_data[:,:5]\n",
    "y_data = training_data[:,5:]\n",
    "X = X_data\n",
    "target_y = y_data\n",
    "print(training_data.shape)\n",
    "print('X shape:', X.shape)\n",
    "print('Y shape:', target_y.shape)"
   ]
  },
  {
   "cell_type": "markdown",
   "id": "3f80757a",
   "metadata": {},
   "source": [
    "Split the Data between training (85%) and testing (15%) and normalise inputs between $[-1,1]$ and center/standardise outputs. "
   ]
  },
  {
   "cell_type": "code",
   "execution_count": 41,
   "id": "d8c69530",
   "metadata": {},
   "outputs": [],
   "source": [
    "#splitting the data to training and testing set\n",
    "X_indexed = np.concatenate((np.arange(X.shape[0])[np.newaxis].T,X),axis = 1)\n",
    "X_train, X_test, y_train, y_test = train_test_split(\n",
    "    X_indexed, target_y, test_size=0.15, random_state=42)\n",
    "\n",
    "train_index = X_train[:,0].astype(int)\n",
    "test_index = X_test[:,0].astype(int)\n",
    "X_train = X_train[:,1:]\n",
    "X_test = X_test[:,1:]"
   ]
  },
  {
   "cell_type": "code",
   "execution_count": 42,
   "id": "10d426a5",
   "metadata": {},
   "outputs": [],
   "source": [
    "#Normalising input data x to the interval of [-1, 1]\n",
    "def input_norm_transform(x, x_min, x_max, norm_min, norm_max):\n",
    "    return (x-x_min)/(x_max-x_min)*(norm_max-norm_min)+norm_min\n",
    "def input_norm_transform_inv(x_norm, x_min, x_max, norm_min, norm_max):\n",
    "    return (x_norm-norm_min)/(norm_max-norm_min)*(x_max-x_min)+x_min\n",
    "\n",
    "x_max = np.array([np.max(X_train[:,0]),  np.max(X_train[:,1]),  np.max(X_train[:,2]), np.max(X_train[:,3]), np.max(X_train[:,4])])\n",
    "x_min = np.array([np.min(X_train[:,0]),  np.min(X_train[:,1]),  np.min(X_train[:,2]), np.min(X_train[:,3]), np.min(X_train[:,4])])\n",
    "x_norm_min = -1\n",
    "x_norm_max = 1\n",
    "\n",
    "x_train_transform = input_norm_transform(X_train, x_min, x_max, x_norm_min, x_norm_max)\n",
    "x_test_transform = input_norm_transform(X_test, x_min, x_max, x_norm_min, x_norm_max)"
   ]
  },
  {
   "cell_type": "code",
   "execution_count": 43,
   "id": "969dc189",
   "metadata": {},
   "outputs": [
    {
     "name": "stdout",
     "output_type": "stream",
     "text": [
      "x_max: [ 0.24999307 59.99848137 34.99963258  4.99972477 -0.10005674]\n",
      "x_min: [ 0.03001265 10.00060011  5.00043955  1.00002428 -0.89993884]\n"
     ]
    }
   ],
   "source": [
    "#Let's check the range for each parameter:\n",
    "print('x_max:', x_max)\n",
    "print('x_min:', x_min)"
   ]
  },
  {
   "cell_type": "code",
   "execution_count": 62,
   "id": "063f0feb",
   "metadata": {},
   "outputs": [],
   "source": [
    "#Standardising output data y to the interval, so it is centred with variance 1\n",
    "def output_norm_transform(y, mean, std):\n",
    "    return (y-mean)/std\n",
    "def output_norm_transform_inv(y_trans, mean, std):\n",
    "    return y_trans*std+mean\n",
    "\n",
    "y_mean = np.average(y_train,axis=0)\n",
    "y_std = np.std(y_train,axis=0)\n",
    "\n",
    "y_train_transform = output_norm_transform(y_train, y_mean, y_std)\n",
    "y_test_transform = output_norm_transform(y_test, y_mean, y_std)"
   ]
  },
  {
   "cell_type": "markdown",
   "id": "b501ab74",
   "metadata": {},
   "source": [
    "Check that the values of the dataset have been well preprocessed :"
   ]
  },
  {
   "cell_type": "code",
   "execution_count": 63,
   "id": "3b98f9c5",
   "metadata": {},
   "outputs": [
    {
     "name": "stdout",
     "output_type": "stream",
     "text": [
      "Min X_train après normalisation: -1.0\n",
      "Max X_train après normalisation: 1.0\n",
      "Mean y_train_transform: -3.647326053776044e-16\n",
      "Std y_train_transform: 0.9999999999999992\n"
     ]
    }
   ],
   "source": [
    "print(\"Min X_train après normalisation:\", x_train_transform.min())\n",
    "print(\"Max X_train après normalisation:\", x_train_transform.max())\n",
    "print(\"Mean y_train_transform:\", y_train_transform.mean())\n",
    "print(\"Std y_train_transform:\", y_train_transform.std())\n"
   ]
  },
  {
   "cell_type": "markdown",
   "id": "64be6767",
   "metadata": {},
   "source": [
    "Ok all good"
   ]
  },
  {
   "cell_type": "code",
   "execution_count": 64,
   "id": "8bbdd19b",
   "metadata": {},
   "outputs": [
    {
     "data": {
      "image/png": "[encoded data removed]",
      "text/plain": [
       "<Figure size 640x480 with 1 Axes>"
      ]
     },
     "metadata": {},
     "output_type": "display_data"
    }
   ],
   "source": [
    "import matplotlib.pyplot as plt\n",
    "\n",
    "plt.hist(y_train_transform.flatten(), bins=100, alpha=0.7, label='y_train_transform')\n",
    "plt.title(\"Distribution des prix des options (y_data)\")\n",
    "plt.show()"
   ]
  },
  {
   "cell_type": "markdown",
   "id": "d44a6ea5",
   "metadata": {},
   "source": [
    "## Building of the Neural Network"
   ]
  },
  {
   "cell_type": "code",
   "execution_count": 65,
   "id": "1d430720",
   "metadata": {},
   "outputs": [
    {
     "data": {
      "text/html": [
       "<pre style=\"white-space:pre;overflow-x:auto;line-height:normal;font-family:Menlo,'DejaVu Sans Mono',consolas,'Courier New',monospace\"><span style=\"font-weight: bold\">Model: \"sequential_5\"</span>\n",
       "</pre>\n"
      ],
      "text/plain": [
       "\u001b[1mModel: \"sequential_5\"\u001b[0m\n"
      ]
     },
     "metadata": {},
     "output_type": "display_data"
    },
    {
     "data": {
      "text/html": [
       "<pre style=\"white-space:pre;overflow-x:auto;line-height:normal;font-family:Menlo,'DejaVu Sans Mono',consolas,'Courier New',monospace\">┏━━━━━━━━━━━━━━━━━━━━━━━━━━━━━━━━━┳━━━━━━━━━━━━━━━━━━━━━━━━┳━━━━━━━━━━━━━━━┓\n",
       "┃<span style=\"font-weight: bold\"> Layer (type)                    </span>┃<span style=\"font-weight: bold\"> Output Shape           </span>┃<span style=\"font-weight: bold\">       Param # </span>┃\n",
       "┡━━━━━━━━━━━━━━━━━━━━━━━━━━━━━━━━━╇━━━━━━━━━━━━━━━━━━━━━━━━╇━━━━━━━━━━━━━━━┩\n",
       "│ dense_19 (<span style=\"color: #0087ff; text-decoration-color: #0087ff\">Dense</span>)                │ (<span style=\"color: #00d7ff; text-decoration-color: #00d7ff\">None</span>, <span style=\"color: #00af00; text-decoration-color: #00af00\">30</span>)             │           <span style=\"color: #00af00; text-decoration-color: #00af00\">180</span> │\n",
       "├─────────────────────────────────┼────────────────────────┼───────────────┤\n",
       "│ dense_20 (<span style=\"color: #0087ff; text-decoration-color: #0087ff\">Dense</span>)                │ (<span style=\"color: #00d7ff; text-decoration-color: #00d7ff\">None</span>, <span style=\"color: #00af00; text-decoration-color: #00af00\">30</span>)             │           <span style=\"color: #00af00; text-decoration-color: #00af00\">930</span> │\n",
       "├─────────────────────────────────┼────────────────────────┼───────────────┤\n",
       "│ dense_21 (<span style=\"color: #0087ff; text-decoration-color: #0087ff\">Dense</span>)                │ (<span style=\"color: #00d7ff; text-decoration-color: #00d7ff\">None</span>, <span style=\"color: #00af00; text-decoration-color: #00af00\">30</span>)             │           <span style=\"color: #00af00; text-decoration-color: #00af00\">930</span> │\n",
       "├─────────────────────────────────┼────────────────────────┼───────────────┤\n",
       "│ dense_22 (<span style=\"color: #0087ff; text-decoration-color: #0087ff\">Dense</span>)                │ (<span style=\"color: #00d7ff; text-decoration-color: #00d7ff\">None</span>, <span style=\"color: #00af00; text-decoration-color: #00af00\">30</span>)             │           <span style=\"color: #00af00; text-decoration-color: #00af00\">930</span> │\n",
       "├─────────────────────────────────┼────────────────────────┼───────────────┤\n",
       "│ dense_23 (<span style=\"color: #0087ff; text-decoration-color: #0087ff\">Dense</span>)                │ (<span style=\"color: #00d7ff; text-decoration-color: #00d7ff\">None</span>, <span style=\"color: #00af00; text-decoration-color: #00af00\">30</span>)             │           <span style=\"color: #00af00; text-decoration-color: #00af00\">930</span> │\n",
       "├─────────────────────────────────┼────────────────────────┼───────────────┤\n",
       "│ dense_24 (<span style=\"color: #0087ff; text-decoration-color: #0087ff\">Dense</span>)                │ (<span style=\"color: #00d7ff; text-decoration-color: #00d7ff\">None</span>, <span style=\"color: #00af00; text-decoration-color: #00af00\">30</span>)             │           <span style=\"color: #00af00; text-decoration-color: #00af00\">930</span> │\n",
       "├─────────────────────────────────┼────────────────────────┼───────────────┤\n",
       "│ dense_25 (<span style=\"color: #0087ff; text-decoration-color: #0087ff\">Dense</span>)                │ (<span style=\"color: #00d7ff; text-decoration-color: #00d7ff\">None</span>, <span style=\"color: #00af00; text-decoration-color: #00af00\">88</span>)             │         <span style=\"color: #00af00; text-decoration-color: #00af00\">2,728</span> │\n",
       "└─────────────────────────────────┴────────────────────────┴───────────────┘\n",
       "</pre>\n"
      ],
      "text/plain": [
       "┏━━━━━━━━━━━━━━━━━━━━━━━━━━━━━━━━━┳━━━━━━━━━━━━━━━━━━━━━━━━┳━━━━━━━━━━━━━━━┓\n",
       "┃\u001b[1m \u001b[0m\u001b[1mLayer (type)                   \u001b[0m\u001b[1m \u001b[0m┃\u001b[1m \u001b[0m\u001b[1mOutput Shape          \u001b[0m\u001b[1m \u001b[0m┃\u001b[1m \u001b[0m\u001b[1m      Param #\u001b[0m\u001b[1m \u001b[0m┃\n",
       "┡━━━━━━━━━━━━━━━━━━━━━━━━━━━━━━━━━╇━━━━━━━━━━━━━━━━━━━━━━━━╇━━━━━━━━━━━━━━━┩\n",
       "│ dense_19 (\u001b[38;5;33mDense\u001b[0m)                │ (\u001b[38;5;45mNone\u001b[0m, \u001b[38;5;34m30\u001b[0m)             │           \u001b[38;5;34m180\u001b[0m │\n",
       "├─────────────────────────────────┼────────────────────────┼───────────────┤\n",
       "│ dense_20 (\u001b[38;5;33mDense\u001b[0m)                │ (\u001b[38;5;45mNone\u001b[0m, \u001b[38;5;34m30\u001b[0m)             │           \u001b[38;5;34m930\u001b[0m │\n",
       "├─────────────────────────────────┼────────────────────────┼───────────────┤\n",
       "│ dense_21 (\u001b[38;5;33mDense\u001b[0m)                │ (\u001b[38;5;45mNone\u001b[0m, \u001b[38;5;34m30\u001b[0m)             │           \u001b[38;5;34m930\u001b[0m │\n",
       "├─────────────────────────────────┼────────────────────────┼───────────────┤\n",
       "│ dense_22 (\u001b[38;5;33mDense\u001b[0m)                │ (\u001b[38;5;45mNone\u001b[0m, \u001b[38;5;34m30\u001b[0m)             │           \u001b[38;5;34m930\u001b[0m │\n",
       "├─────────────────────────────────┼────────────────────────┼───────────────┤\n",
       "│ dense_23 (\u001b[38;5;33mDense\u001b[0m)                │ (\u001b[38;5;45mNone\u001b[0m, \u001b[38;5;34m30\u001b[0m)             │           \u001b[38;5;34m930\u001b[0m │\n",
       "├─────────────────────────────────┼────────────────────────┼───────────────┤\n",
       "│ dense_24 (\u001b[38;5;33mDense\u001b[0m)                │ (\u001b[38;5;45mNone\u001b[0m, \u001b[38;5;34m30\u001b[0m)             │           \u001b[38;5;34m930\u001b[0m │\n",
       "├─────────────────────────────────┼────────────────────────┼───────────────┤\n",
       "│ dense_25 (\u001b[38;5;33mDense\u001b[0m)                │ (\u001b[38;5;45mNone\u001b[0m, \u001b[38;5;34m88\u001b[0m)             │         \u001b[38;5;34m2,728\u001b[0m │\n",
       "└─────────────────────────────────┴────────────────────────┴───────────────┘\n"
      ]
     },
     "metadata": {},
     "output_type": "display_data"
    },
    {
     "data": {
      "text/html": [
       "<pre style=\"white-space:pre;overflow-x:auto;line-height:normal;font-family:Menlo,'DejaVu Sans Mono',consolas,'Courier New',monospace\"><span style=\"font-weight: bold\"> Total params: </span><span style=\"color: #00af00; text-decoration-color: #00af00\">7,558</span> (29.52 KB)\n",
       "</pre>\n"
      ],
      "text/plain": [
       "\u001b[1m Total params: \u001b[0m\u001b[38;5;34m7,558\u001b[0m (29.52 KB)\n"
      ]
     },
     "metadata": {},
     "output_type": "display_data"
    },
    {
     "data": {
      "text/html": [
       "<pre style=\"white-space:pre;overflow-x:auto;line-height:normal;font-family:Menlo,'DejaVu Sans Mono',consolas,'Courier New',monospace\"><span style=\"font-weight: bold\"> Trainable params: </span><span style=\"color: #00af00; text-decoration-color: #00af00\">7,558</span> (29.52 KB)\n",
       "</pre>\n"
      ],
      "text/plain": [
       "\u001b[1m Trainable params: \u001b[0m\u001b[38;5;34m7,558\u001b[0m (29.52 KB)\n"
      ]
     },
     "metadata": {},
     "output_type": "display_data"
    },
    {
     "data": {
      "text/html": [
       "<pre style=\"white-space:pre;overflow-x:auto;line-height:normal;font-family:Menlo,'DejaVu Sans Mono',consolas,'Courier New',monospace\"><span style=\"font-weight: bold\"> Non-trainable params: </span><span style=\"color: #00af00; text-decoration-color: #00af00\">0</span> (0.00 B)\n",
       "</pre>\n"
      ],
      "text/plain": [
       "\u001b[1m Non-trainable params: \u001b[0m\u001b[38;5;34m0\u001b[0m (0.00 B)\n"
      ]
     },
     "metadata": {},
     "output_type": "display_data"
    }
   ],
   "source": [
    "model_iv = keras.models.Sequential([\n",
    "    keras.layers.Input(shape=(5,)),\n",
    "    keras.layers.Dense(30, activation=\"elu\"),\n",
    "    keras.layers.Dense(30, activation=\"elu\"),\n",
    "    keras.layers.Dense(30, activation=\"elu\"),\n",
    "    keras.layers.Dense(30, activation=\"elu\"),\n",
    "    keras.layers.Dense(30, activation=\"elu\"),\n",
    "    keras.layers.Dense(30, activation=\"elu\"),\n",
    "    keras.layers.Dense(y_train_transform.shape[1], activation=\"linear\")\n",
    "])\n",
    "\n",
    "model_iv.summary()"
   ]
  },
  {
   "cell_type": "code",
   "execution_count": 66,
   "id": "9c2a3f01",
   "metadata": {},
   "outputs": [
    {
     "name": "stdout",
     "output_type": "stream",
     "text": [
      "Epoch 1/40\n",
      "\u001b[1m266/266\u001b[0m \u001b[32m━━━━━━━━━━━━━━━━━━━━\u001b[0m\u001b[37m\u001b[0m \u001b[1m2s\u001b[0m 1ms/step - loss: 0.9680\n",
      "Epoch 2/40\n",
      "\u001b[1m266/266\u001b[0m \u001b[32m━━━━━━━━━━━━━━━━━━━━\u001b[0m\u001b[37m\u001b[0m \u001b[1m0s\u001b[0m 2ms/step - loss: 0.8695\n",
      "Epoch 3/40\n",
      "\u001b[1m266/266\u001b[0m \u001b[32m━━━━━━━━━━━━━━━━━━━━\u001b[0m\u001b[37m\u001b[0m \u001b[1m0s\u001b[0m 2ms/step - loss: 0.7921\n",
      "Epoch 4/40\n",
      "\u001b[1m266/266\u001b[0m \u001b[32m━━━━━━━━━━━━━━━━━━━━\u001b[0m\u001b[37m\u001b[0m \u001b[1m0s\u001b[0m 2ms/step - loss: 0.7980\n",
      "Epoch 5/40\n",
      "\u001b[1m266/266\u001b[0m \u001b[32m━━━━━━━━━━━━━━━━━━━━\u001b[0m\u001b[37m\u001b[0m \u001b[1m0s\u001b[0m 2ms/step - loss: 0.8105\n",
      "Epoch 6/40\n",
      "\u001b[1m266/266\u001b[0m \u001b[32m━━━━━━━━━━━━━━━━━━━━\u001b[0m\u001b[37m\u001b[0m \u001b[1m0s\u001b[0m 1ms/step - loss: 0.7907\n",
      "Epoch 7/40\n",
      "\u001b[1m266/266\u001b[0m \u001b[32m━━━━━━━━━━━━━━━━━━━━\u001b[0m\u001b[37m\u001b[0m \u001b[1m0s\u001b[0m 1ms/step - loss: 0.8038\n",
      "Epoch 8/40\n",
      "\u001b[1m266/266\u001b[0m \u001b[32m━━━━━━━━━━━━━━━━━━━━\u001b[0m\u001b[37m\u001b[0m \u001b[1m0s\u001b[0m 1ms/step - loss: 0.7919\n",
      "Epoch 9/40\n",
      "\u001b[1m266/266\u001b[0m \u001b[32m━━━━━━━━━━━━━━━━━━━━\u001b[0m\u001b[37m\u001b[0m \u001b[1m0s\u001b[0m 1ms/step - loss: 0.7786\n",
      "Epoch 10/40\n",
      "\u001b[1m266/266\u001b[0m \u001b[32m━━━━━━━━━━━━━━━━━━━━\u001b[0m\u001b[37m\u001b[0m \u001b[1m0s\u001b[0m 2ms/step - loss: 0.7977\n",
      "Epoch 11/40\n",
      "\u001b[1m266/266\u001b[0m \u001b[32m━━━━━━━━━━━━━━━━━━━━\u001b[0m\u001b[37m\u001b[0m \u001b[1m0s\u001b[0m 1ms/step - loss: 0.7842\n",
      "Epoch 12/40\n",
      "\u001b[1m266/266\u001b[0m \u001b[32m━━━━━━━━━━━━━━━━━━━━\u001b[0m\u001b[37m\u001b[0m \u001b[1m1s\u001b[0m 2ms/step - loss: 0.7887\n",
      "Epoch 13/40\n",
      "\u001b[1m266/266\u001b[0m \u001b[32m━━━━━━━━━━━━━━━━━━━━\u001b[0m\u001b[37m\u001b[0m \u001b[1m0s\u001b[0m 2ms/step - loss: 0.7982\n",
      "Epoch 14/40\n",
      "\u001b[1m266/266\u001b[0m \u001b[32m━━━━━━━━━━━━━━━━━━━━\u001b[0m\u001b[37m\u001b[0m \u001b[1m0s\u001b[0m 2ms/step - loss: 0.7823\n",
      "Epoch 15/40\n",
      "\u001b[1m266/266\u001b[0m \u001b[32m━━━━━━━━━━━━━━━━━━━━\u001b[0m\u001b[37m\u001b[0m \u001b[1m0s\u001b[0m 2ms/step - loss: 0.7820\n",
      "Epoch 16/40\n",
      "\u001b[1m266/266\u001b[0m \u001b[32m━━━━━━━━━━━━━━━━━━━━\u001b[0m\u001b[37m\u001b[0m \u001b[1m1s\u001b[0m 2ms/step - loss: 0.8060\n",
      "Epoch 17/40\n",
      "\u001b[1m266/266\u001b[0m \u001b[32m━━━━━━━━━━━━━━━━━━━━\u001b[0m\u001b[37m\u001b[0m \u001b[1m0s\u001b[0m 2ms/step - loss: 0.8018\n",
      "Epoch 18/40\n",
      "\u001b[1m266/266\u001b[0m \u001b[32m━━━━━━━━━━━━━━━━━━━━\u001b[0m\u001b[37m\u001b[0m \u001b[1m1s\u001b[0m 2ms/step - loss: 0.7876\n",
      "Epoch 19/40\n",
      "\u001b[1m266/266\u001b[0m \u001b[32m━━━━━━━━━━━━━━━━━━━━\u001b[0m\u001b[37m\u001b[0m \u001b[1m1s\u001b[0m 2ms/step - loss: 0.7857\n",
      "Epoch 20/40\n",
      "\u001b[1m266/266\u001b[0m \u001b[32m━━━━━━━━━━━━━━━━━━━━\u001b[0m\u001b[37m\u001b[0m \u001b[1m1s\u001b[0m 2ms/step - loss: 0.8007\n",
      "Epoch 21/40\n",
      "\u001b[1m266/266\u001b[0m \u001b[32m━━━━━━━━━━━━━━━━━━━━\u001b[0m\u001b[37m\u001b[0m \u001b[1m1s\u001b[0m 2ms/step - loss: 0.8359\n",
      "Epoch 22/40\n",
      "\u001b[1m266/266\u001b[0m \u001b[32m━━━━━━━━━━━━━━━━━━━━\u001b[0m\u001b[37m\u001b[0m \u001b[1m1s\u001b[0m 2ms/step - loss: 0.8357\n",
      "Epoch 23/40\n",
      "\u001b[1m266/266\u001b[0m \u001b[32m━━━━━━━━━━━━━━━━━━━━\u001b[0m\u001b[37m\u001b[0m \u001b[1m1s\u001b[0m 2ms/step - loss: 0.8133\n",
      "Epoch 24/40\n",
      "\u001b[1m266/266\u001b[0m \u001b[32m━━━━━━━━━━━━━━━━━━━━\u001b[0m\u001b[37m\u001b[0m \u001b[1m1s\u001b[0m 2ms/step - loss: 0.8137\n",
      "Epoch 25/40\n",
      "\u001b[1m266/266\u001b[0m \u001b[32m━━━━━━━━━━━━━━━━━━━━\u001b[0m\u001b[37m\u001b[0m \u001b[1m1s\u001b[0m 2ms/step - loss: 0.8004\n",
      "Epoch 26/40\n",
      "\u001b[1m266/266\u001b[0m \u001b[32m━━━━━━━━━━━━━━━━━━━━\u001b[0m\u001b[37m\u001b[0m \u001b[1m1s\u001b[0m 2ms/step - loss: 0.7841\n",
      "Epoch 27/40\n",
      "\u001b[1m266/266\u001b[0m \u001b[32m━━━━━━━━━━━━━━━━━━━━\u001b[0m\u001b[37m\u001b[0m \u001b[1m1s\u001b[0m 2ms/step - loss: 0.7942\n",
      "Epoch 28/40\n",
      "\u001b[1m266/266\u001b[0m \u001b[32m━━━━━━━━━━━━━━━━━━━━\u001b[0m\u001b[37m\u001b[0m \u001b[1m1s\u001b[0m 2ms/step - loss: 0.7984\n",
      "Epoch 29/40\n",
      "\u001b[1m266/266\u001b[0m \u001b[32m━━━━━━━━━━━━━━━━━━━━\u001b[0m\u001b[37m\u001b[0m \u001b[1m1s\u001b[0m 2ms/step - loss: 0.7938\n",
      "Epoch 30/40\n",
      "\u001b[1m266/266\u001b[0m \u001b[32m━━━━━━━━━━━━━━━━━━━━\u001b[0m\u001b[37m\u001b[0m \u001b[1m1s\u001b[0m 2ms/step - loss: 0.7798\n",
      "Epoch 31/40\n",
      "\u001b[1m266/266\u001b[0m \u001b[32m━━━━━━━━━━━━━━━━━━━━\u001b[0m\u001b[37m\u001b[0m \u001b[1m1s\u001b[0m 2ms/step - loss: 0.8102\n",
      "Epoch 32/40\n",
      "\u001b[1m266/266\u001b[0m \u001b[32m━━━━━━━━━━━━━━━━━━━━\u001b[0m\u001b[37m\u001b[0m \u001b[1m1s\u001b[0m 2ms/step - loss: 0.7811\n",
      "Epoch 33/40\n",
      "\u001b[1m266/266\u001b[0m \u001b[32m━━━━━━━━━━━━━━━━━━━━\u001b[0m\u001b[37m\u001b[0m \u001b[1m1s\u001b[0m 2ms/step - loss: 0.8054\n",
      "Epoch 34/40\n",
      "\u001b[1m266/266\u001b[0m \u001b[32m━━━━━━━━━━━━━━━━━━━━\u001b[0m\u001b[37m\u001b[0m \u001b[1m1s\u001b[0m 2ms/step - loss: 0.7838\n",
      "Epoch 35/40\n",
      "\u001b[1m266/266\u001b[0m \u001b[32m━━━━━━━━━━━━━━━━━━━━\u001b[0m\u001b[37m\u001b[0m \u001b[1m1s\u001b[0m 2ms/step - loss: 0.7996\n",
      "Epoch 36/40\n",
      "\u001b[1m266/266\u001b[0m \u001b[32m━━━━━━━━━━━━━━━━━━━━\u001b[0m\u001b[37m\u001b[0m \u001b[1m1s\u001b[0m 2ms/step - loss: 0.8097\n",
      "Epoch 37/40\n",
      "\u001b[1m266/266\u001b[0m \u001b[32m━━━━━━━━━━━━━━━━━━━━\u001b[0m\u001b[37m\u001b[0m \u001b[1m1s\u001b[0m 2ms/step - loss: 0.8037\n",
      "Epoch 38/40\n",
      "\u001b[1m266/266\u001b[0m \u001b[32m━━━━━━━━━━━━━━━━━━━━\u001b[0m\u001b[37m\u001b[0m \u001b[1m1s\u001b[0m 2ms/step - loss: 0.7873\n",
      "Epoch 39/40\n",
      "\u001b[1m266/266\u001b[0m \u001b[32m━━━━━━━━━━━━━━━━━━━━\u001b[0m\u001b[37m\u001b[0m \u001b[1m1s\u001b[0m 2ms/step - loss: 0.8016\n",
      "Epoch 40/40\n",
      "\u001b[1m266/266\u001b[0m \u001b[32m━━━━━━━━━━━━━━━━━━━━\u001b[0m\u001b[37m\u001b[0m \u001b[1m1s\u001b[0m 2ms/step - loss: 0.7771\n"
     ]
    }
   ],
   "source": [
    "def error_function(y_true, y_pred):\n",
    "    return tf.sqrt(tf.math.reduce_mean((y_pred - y_true) ** 2))\n",
    "\n",
    "# Define the optimizer with a specific learning rate\n",
    "optimizer = Adam(learning_rate=0.0001)\n",
    "\n",
    "model_iv.compile(optimizer=optimizer, loss=error_function)\n",
    "train_hist = model_iv.fit(x_train_transform, y_train_transform, batch_size=64, epochs=40)"
   ]
  },
  {
   "cell_type": "code",
   "execution_count": 67,
   "id": "b5b8d589",
   "metadata": {},
   "outputs": [
    {
     "data": {
      "image/png": "[encoded data removed]",
      "text/plain": [
       "<Figure size 640x480 with 1 Axes>"
      ]
     },
     "metadata": {},
     "output_type": "display_data"
    }
   ],
   "source": [
    "plt.plot(train_hist.history['loss'])\n",
    "plt.title(\"Évolution de la perte\")\n",
    "plt.xlabel(\"Épochs\")\n",
    "plt.ylabel(\"Loss\")\n",
    "plt.show()"
   ]
  },
  {
   "cell_type": "code",
   "execution_count": 68,
   "id": "e859b341",
   "metadata": {},
   "outputs": [],
   "source": [
    "# Save the model weights\n",
    "model_iv.save_weights('2FBergomiNNWeights_test.weights.h5')"
   ]
  },
  {
   "cell_type": "code",
   "execution_count": 69,
   "id": "d2507443",
   "metadata": {},
   "outputs": [],
   "source": [
    "model_iv.load_weights('2FBergomiNNWeights_test.weights.h5')"
   ]
  },
  {
   "cell_type": "code",
   "execution_count": 70,
   "id": "f3008dd1",
   "metadata": {},
   "outputs": [
    {
     "name": "stdout",
     "output_type": "stream",
     "text": [
      "\u001b[1m94/94\u001b[0m \u001b[32m━━━━━━━━━━━━━━━━━━━━\u001b[0m\u001b[37m\u001b[0m \u001b[1m0s\u001b[0m 1ms/step - loss: 0.7948 \n",
      "Test Loss: 0.8191924095153809\n"
     ]
    }
   ],
   "source": [
    "test_loss = model_iv.evaluate(x_test_transform, y_test_transform)\n",
    "print(f\"Test Loss: {test_loss}\")"
   ]
  },
  {
   "cell_type": "code",
   "execution_count": 71,
   "id": "fc0a5719",
   "metadata": {},
   "outputs": [],
   "source": [
    "model_iv_2 = keras.models.Sequential([\n",
    "    keras.layers.Input(shape=(5,)),\n",
    "    keras.layers.Dense(64, activation=\"elu\"),\n",
    "    keras.layers.Dense(64, activation=\"elu\"),\n",
    "    keras.layers.Dense(y_train_transform.shape[1], activation=\"linear\")\n",
    "])"
   ]
  },
  {
   "cell_type": "code",
   "execution_count": 72,
   "id": "09fdcd92",
   "metadata": {},
   "outputs": [
    {
     "name": "stdout",
     "output_type": "stream",
     "text": [
      "Epoch 1/100\n"
     ]
    },
    {
     "ename": "NotImplementedError",
     "evalue": "numpy() is only available when eager execution is enabled.",
     "output_type": "error",
     "traceback": [
      "\u001b[1;31m---------------------------------------------------------------------------\u001b[0m",
      "\u001b[1;31mNotImplementedError\u001b[0m                       Traceback (most recent call last)",
      "Cell \u001b[1;32mIn[72], line 2\u001b[0m\n\u001b[0;32m      1\u001b[0m model_iv_2\u001b[38;5;241m.\u001b[39mcompile(optimizer\u001b[38;5;241m=\u001b[39moptimizer, loss\u001b[38;5;241m=\u001b[39merror_function)\n\u001b[1;32m----> 2\u001b[0m train_hist_2 \u001b[38;5;241m=\u001b[39m \u001b[43mmodel_iv_2\u001b[49m\u001b[38;5;241;43m.\u001b[39;49m\u001b[43mfit\u001b[49m\u001b[43m(\u001b[49m\u001b[43mx_train_transform\u001b[49m\u001b[43m,\u001b[49m\u001b[43m \u001b[49m\u001b[43my_train_transform\u001b[49m\u001b[43m,\u001b[49m\u001b[43m \u001b[49m\u001b[43mbatch_size\u001b[49m\u001b[38;5;241;43m=\u001b[39;49m\u001b[38;5;241;43m200\u001b[39;49m\u001b[43m,\u001b[49m\u001b[43m \u001b[49m\u001b[43mepochs\u001b[49m\u001b[38;5;241;43m=\u001b[39;49m\u001b[38;5;241;43m100\u001b[39;49m\u001b[43m)\u001b[49m\n",
      "File \u001b[1;32mc:\\Users\\diane\\anaconda3\\envs\\envy\\Lib\\site-packages\\keras\\src\\utils\\traceback_utils.py:122\u001b[0m, in \u001b[0;36mfilter_traceback.<locals>.error_handler\u001b[1;34m(*args, **kwargs)\u001b[0m\n\u001b[0;32m    119\u001b[0m     filtered_tb \u001b[38;5;241m=\u001b[39m _process_traceback_frames(e\u001b[38;5;241m.\u001b[39m__traceback__)\n\u001b[0;32m    120\u001b[0m     \u001b[38;5;66;03m# To get the full stack trace, call:\u001b[39;00m\n\u001b[0;32m    121\u001b[0m     \u001b[38;5;66;03m# `keras.config.disable_traceback_filtering()`\u001b[39;00m\n\u001b[1;32m--> 122\u001b[0m     \u001b[38;5;28;01mraise\u001b[39;00m e\u001b[38;5;241m.\u001b[39mwith_traceback(filtered_tb) \u001b[38;5;28;01mfrom\u001b[39;00m \u001b[38;5;28;01mNone\u001b[39;00m\n\u001b[0;32m    123\u001b[0m \u001b[38;5;28;01mfinally\u001b[39;00m:\n\u001b[0;32m    124\u001b[0m     \u001b[38;5;28;01mdel\u001b[39;00m filtered_tb\n",
      "File \u001b[1;32mc:\\Users\\diane\\anaconda3\\envs\\envy\\Lib\\site-packages\\keras\\src\\backend\\tensorflow\\core.py:155\u001b[0m, in \u001b[0;36mconvert_to_numpy\u001b[1;34m(x)\u001b[0m\n\u001b[0;32m    153\u001b[0m \u001b[38;5;28;01melif\u001b[39;00m \u001b[38;5;28misinstance\u001b[39m(x, tf\u001b[38;5;241m.\u001b[39mRaggedTensor):\n\u001b[0;32m    154\u001b[0m     x \u001b[38;5;241m=\u001b[39m x\u001b[38;5;241m.\u001b[39mto_tensor()\n\u001b[1;32m--> 155\u001b[0m \u001b[38;5;28;01mreturn\u001b[39;00m np\u001b[38;5;241m.\u001b[39marray(x)\n",
      "\u001b[1;31mNotImplementedError\u001b[0m: numpy() is only available when eager execution is enabled."
     ]
    }
   ],
   "source": [
    "model_iv_2.compile(optimizer=optimizer, loss=error_function)\n",
    "train_hist_2 = model_iv_2.fit(x_train_transform, y_train_transform, batch_size=200, epochs=100)"
   ]
  },
  {
   "cell_type": "code",
   "execution_count": 73,
   "id": "aa19d40d",
   "metadata": {},
   "outputs": [
    {
     "ename": "NameError",
     "evalue": "name 'train_hist_2' is not defined",
     "output_type": "error",
     "traceback": [
      "\u001b[1;31m---------------------------------------------------------------------------\u001b[0m",
      "\u001b[1;31mNameError\u001b[0m                                 Traceback (most recent call last)",
      "Cell \u001b[1;32mIn[73], line 1\u001b[0m\n\u001b[1;32m----> 1\u001b[0m plt\u001b[38;5;241m.\u001b[39mplot(\u001b[43mtrain_hist_2\u001b[49m\u001b[38;5;241m.\u001b[39mhistory[\u001b[38;5;124m'\u001b[39m\u001b[38;5;124mloss\u001b[39m\u001b[38;5;124m'\u001b[39m])\n\u001b[0;32m      2\u001b[0m plt\u001b[38;5;241m.\u001b[39mtitle(\u001b[38;5;124m\"\u001b[39m\u001b[38;5;124mÉvolution de la perte\u001b[39m\u001b[38;5;124m\"\u001b[39m)\n\u001b[0;32m      3\u001b[0m plt\u001b[38;5;241m.\u001b[39mxlabel(\u001b[38;5;124m\"\u001b[39m\u001b[38;5;124mÉpochs\u001b[39m\u001b[38;5;124m\"\u001b[39m)\n",
      "\u001b[1;31mNameError\u001b[0m: name 'train_hist_2' is not defined"
     ]
    }
   ],
   "source": [
    "plt.plot(train_hist_2.history['loss'])\n",
    "plt.title(\"Évolution de la perte\")\n",
    "plt.xlabel(\"Épochs\")\n",
    "plt.ylabel(\"Loss\")\n",
    "plt.show()"
   ]
  },
  {
   "cell_type": "code",
   "execution_count": 38,
   "id": "80f529a0",
   "metadata": {},
   "outputs": [
    {
     "name": "stdout",
     "output_type": "stream",
     "text": [
      "\u001b[1m94/94\u001b[0m \u001b[32m━━━━━━━━━━━━━━━━━━━━\u001b[0m\u001b[37m\u001b[0m \u001b[1m0s\u001b[0m 1ms/step - loss: 0.8071\n",
      "Test Loss : 0.8303336501121521\n"
     ]
    }
   ],
   "source": [
    "test_loss = model_iv_2.evaluate(x_test_transform, y_test_transform)\n",
    "\n",
    "print(f\"Test Loss : {test_loss}\")"
   ]
  },
  {
   "cell_type": "markdown",
   "id": "ece79a8a",
   "metadata": {},
   "source": [
    "## Final predictions"
   ]
  },
  {
   "cell_type": "markdown",
   "id": "195488d7",
   "metadata": {},
   "source": [
    "### parameter set 1"
   ]
  },
  {
   "cell_type": "markdown",
   "id": "78c1b2a4",
   "metadata": {},
   "source": [
    "$\\xi = 0.06, \\kappa_1 =41.6, \\eta_1 = 18.2428, \\eta_2 = 3.43, \\rho = -0.7$"
   ]
  },
  {
   "cell_type": "markdown",
   "id": "36d2f7a6",
   "metadata": {},
   "source": [
    "### parameter set 2"
   ]
  },
  {
   "cell_type": "markdown",
   "id": "41521c3f",
   "metadata": {},
   "source": [
    "$\\xi = 0.1, \\kappa_1 = 15.6, \\eta_1 = 5.5857, \\eta_2 = 2.2867, \\rho = -0.4$"
   ]
  },
  {
   "cell_type": "markdown",
   "id": "c9d1c4db",
   "metadata": {},
   "source": [
    "### parameter set 3"
   ]
  },
  {
   "cell_type": "markdown",
   "id": "8c5fe2fd",
   "metadata": {},
   "source": [
    "$\\xi = 0.2, \\kappa_1 = 54.6, \\eta_1 = 31.3496, \\eta_2 = 4.5733, \\rho = -0.8$"
   ]
  },
  {
   "cell_type": "markdown",
   "id": "19da33fb-60f5-4564-b987-842cacc35a7c",
   "metadata": {},
   "source": [
    "# References"
   ]
  },
  {
   "cell_type": "markdown",
   "id": "e266d5cd-6ed2-42a0-bd08-107ebfbfc729",
   "metadata": {},
   "source": [
    "1)  Lorenzo Bergomi. Smile dynamics II. Risk Magazine, 2005\n",
    "\n",
    "2) Blanka Horvath, Aitor Muguruza, and Mehdi Tomas. Deep learning volatility: a deep neural \n",
    "network perspective on pricing and calibration in (rough) volatility models. Quantitativ \n",
    "Finance, 21(1):11–27, 20218\n",
    "\n",
    "3) Ryan McCrickerd and Mikko S Pakkanen. Turbocharging monte carlo pricing for the rough \n",
    "bergomi model. Quantitative Finance, 18(11):1877–1886, 2018"
   ]
  },
  {
   "cell_type": "code",
   "execution_count": null,
   "id": "6aa50453-b3dd-4f2d-90c5-6f316e215196",
   "metadata": {},
   "outputs": [],
   "source": []
  }
 ],
 "metadata": {
  "kernelspec": {
   "display_name": "envy",
   "language": "python",
   "name": "python3"
  },
  "language_info": {
   "codemirror_mode": {
    "name": "ipython",
    "version": 3
   },
   "file_extension": ".py",
   "mimetype": "text/x-python",
   "name": "python",
   "nbconvert_exporter": "python",
   "pygments_lexer": "ipython3",
   "version": "3.11.0"
  }
 },
 "nbformat": 4,
 "nbformat_minor": 5
}
